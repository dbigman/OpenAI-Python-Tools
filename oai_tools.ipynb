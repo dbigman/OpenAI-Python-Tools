{
 "cells": [
  {
   "cell_type": "code",
   "execution_count": 1,
   "metadata": {},
   "outputs": [],
   "source": [
    "# This script provides an interactive command-line interface for performing various tasks using the OpenAI API.\n",
    "# It includes functionalities like listing assistants, creating and deleting threads, fetching messages, \n",
    "# managing files, and more. The script uses environment variables for configuration and provides a menu-driven user experience.\n",
    "\n",
    "import os\n",
    "import sys\n",
    "import openai\n",
    "from dotenv import load_dotenv\n",
    "\n",
    "\n",
    "load_dotenv()  # Load environment variables from a .env file\n",
    "\n",
    "# Now you can use the environment variable\n",
    "openai_api_key = os.getenv('OPENAI_API_KEY')\n",
    "\n",
    "# Retrieve and set the OpenAI API key from environment variables\n",
    "openai_api_key = os.getenv('OPENAI_API_KEY')\n",
    "client = openai.Client(api_key=openai_api_key)"
   ]
  },
  {
   "cell_type": "code",
   "execution_count": 2,
   "metadata": {},
   "outputs": [
    {
     "name": "stdout",
     "output_type": "stream",
     "text": [
      "Fetching assistants...\n",
      "No assistants available.\n"
     ]
    }
   ],
   "source": [
    "def list_assistants():\n",
    "    \"\"\"\n",
    "    Fetches and lists all available assistants.\n",
    "    Assistants are listed in descending order and limited to the top 20.\n",
    "    If no assistants are available, it prints a message indicating so.\n",
    "    \"\"\"\n",
    "    print(\"Fetching assistants...\")\n",
    "    response = client.beta.assistants.list(\n",
    "       order=\"desc\",\n",
    "        limit=\"20\",\n",
    "    )\n",
    "\n",
    "    if not response.data:\n",
    "        print(\"No assistants available.\")\n",
    "    else:\n",
    "        for i, assistant in enumerate(response.data, 1):\n",
    "            print(f\"{i}. 🤖 {assistant.name}  (id:{assistant.id})\")\n",
    "\n",
    "list_assistants()"
   ]
  },
  {
   "cell_type": "code",
   "execution_count": 3,
   "metadata": {},
   "outputs": [
    {
     "data": {
      "text/plain": [
       "<function __main__.create_thread()>"
      ]
     },
     "execution_count": 3,
     "metadata": {},
     "output_type": "execute_result"
    }
   ],
   "source": [
    "def create_thread():\n",
    "    \"\"\"\n",
    "    Creates a new thread using the OpenAI API.\n",
    "    Prints the ID of the created thread upon successful creation.\n",
    "    \"\"\"\n",
    "    print(\"Creating a thread...\")\n",
    "    response = client.beta.threads.create()\n",
    "    print(f\"Created a thread! id:{response.id}\")\n",
    "\n",
    "create_thread"
   ]
  },
  {
   "cell_type": "code",
   "execution_count": 4,
   "metadata": {},
   "outputs": [],
   "source": [
    "import pandas as pd\n",
    "df = pd.read_excel(r\"C:\\Users\\dbigman\\OneDrive - SUDOC LLC\\Desktop\\pricing_spreadsheet.xlsx\")\n"
   ]
  },
  {
   "cell_type": "code",
   "execution_count": 5,
   "metadata": {},
   "outputs": [],
   "source": [
    "json_data = df.to_json(orient='records')\n"
   ]
  },
  {
   "cell_type": "code",
   "execution_count": null,
   "metadata": {},
   "outputs": [],
   "source": [
    "with open('output_file.json', 'w') as json_file:\n",
    "    json_file.write(json_data)\n"
   ]
  }
 ],
 "metadata": {
  "kernelspec": {
   "display_name": "Python 3",
   "language": "python",
   "name": "python3"
  },
  "language_info": {
   "codemirror_mode": {
    "name": "ipython",
    "version": 3
   },
   "file_extension": ".py",
   "mimetype": "text/x-python",
   "name": "python",
   "nbconvert_exporter": "python",
   "pygments_lexer": "ipython3",
   "version": "3.10.10"
  }
 },
 "nbformat": 4,
 "nbformat_minor": 2
}
